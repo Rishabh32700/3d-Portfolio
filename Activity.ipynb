{
  "cells": [
    {
      "cell_type": "markdown",
      "metadata": {
        "id": "view-in-github",
        "colab_type": "text"
      },
      "source": [
        "<a href=\"https://colab.research.google.com/github/A1B2C3D4E5F6G7H8I9J0164-hack/3d-Portfolio/blob/main/Activity.ipynb\" target=\"_parent\"><img src=\"https://colab.research.google.com/assets/colab-badge.svg\" alt=\"Open In Colab\"/></a>"
      ]
    },
    {
      "cell_type": "markdown",
      "metadata": {
        "id": "K5KJUnXQZkRy"
      },
      "source": [
        "Code to load the data from a Google sheet (no need to understand)"
      ]
    },
    {
      "cell_type": "code",
      "execution_count": null,
      "metadata": {
        "id": "ChOoyrOgJ7wJ"
      },
      "outputs": [],
      "source": [
        "import pandas as pd\n",
        "\n",
        "# Construct the URL to fetch the sheet as CSV\n",
        "hash = \"2PACX-1vRVajGiGiikI8OVZiG5a2X65krSUgLE-UbvdYeq1sPERf31dCU29C7W0AbK_ASxIF74TyLTMrx8-7lz\"\n",
        "csv_url = f'https://docs.google.com/spreadsheets/d/e/{hash}/pub?gid=1417545076&single=true&output=csv'\n",
        "# Read the sheet into a Pandas DataFrame\n",
        "df = pd.read_csv(csv_url)\n",
        "\n",
        "# extract each column as a list in seperate variables\n",
        "ts, hrs_per_week, dependency, fav_platform, num_platforms, email, purpose, posts_per_week, peak_time = df.T.values.tolist()"
      ]
    },
    {
      "cell_type": "markdown",
      "metadata": {
        "id": "nSKvlf8PbW7I"
      },
      "source": [
        "#### Typical time spent per week on social media?"
      ]
    },
    {
      "cell_type": "code",
      "execution_count": null,
      "metadata": {
        "id": "c8hTH4k99tfR"
      },
      "outputs": [],
      "source": []
    },
    {
      "cell_type": "code",
      "source": [],
      "metadata": {
        "id": "tLWeFTB7qs3T"
      },
      "execution_count": null,
      "outputs": []
    },
    {
      "cell_type": "code",
      "source": [],
      "metadata": {
        "id": "MgTFU-Zvqs6V"
      },
      "execution_count": null,
      "outputs": []
    },
    {
      "cell_type": "code",
      "source": [],
      "metadata": {
        "id": "je1I9pUHqs9e"
      },
      "execution_count": null,
      "outputs": []
    },
    {
      "cell_type": "code",
      "source": [],
      "metadata": {
        "id": "S1G1wy1lqtAV"
      },
      "execution_count": null,
      "outputs": []
    },
    {
      "cell_type": "code",
      "source": [],
      "metadata": {
        "id": "InoR4xmbqtDI"
      },
      "execution_count": null,
      "outputs": []
    },
    {
      "cell_type": "code",
      "execution_count": null,
      "metadata": {
        "id": "17Cru8J0btzc"
      },
      "outputs": [],
      "source": [
        "def calculate_mean(numbers):\n",
        "\n",
        "    if not numbers:\n",
        "        return None\n",
        "\n",
        "    total = 0\n",
        "    count = 0\n",
        "\n",
        "    for num in numbers:\n",
        "        total += num\n",
        "        count += 1\n",
        "\n",
        "    mean = total / count\n",
        "    return mean"
      ]
    },
    {
      "cell_type": "code",
      "execution_count": null,
      "metadata": {
        "colab": {
          "base_uri": "https://localhost:8080/"
        },
        "id": "TvOJzoTpb5wr",
        "outputId": "d36ddf48-69ff-44c3-a642-d21715a7403d"
      },
      "outputs": [
        {
          "data": {
            "text/plain": [
              "16.36027397260274"
            ]
          },
          "execution_count": 5,
          "metadata": {},
          "output_type": "execute_result"
        }
      ],
      "source": [
        "calculate_mean(hrs_per_week)"
      ]
    },
    {
      "cell_type": "code",
      "execution_count": null,
      "metadata": {
        "id": "l6a-7DpU9yEL"
      },
      "outputs": [],
      "source": []
    },
    {
      "cell_type": "code",
      "execution_count": null,
      "metadata": {
        "id": "77_OfTiI9yGX"
      },
      "outputs": [],
      "source": []
    },
    {
      "cell_type": "code",
      "execution_count": null,
      "metadata": {
        "id": "hsS8Ptv99yIp"
      },
      "outputs": [],
      "source": []
    },
    {
      "cell_type": "code",
      "execution_count": null,
      "metadata": {
        "id": "fG6_Xmmb9yLD"
      },
      "outputs": [],
      "source": []
    },
    {
      "cell_type": "code",
      "execution_count": null,
      "metadata": {
        "id": "Vo2v_nUa9yNd"
      },
      "outputs": [],
      "source": []
    },
    {
      "cell_type": "code",
      "execution_count": null,
      "metadata": {
        "id": "7o0TG7B19yP0"
      },
      "outputs": [],
      "source": []
    },
    {
      "cell_type": "code",
      "execution_count": null,
      "metadata": {
        "id": "6f0J1oh09ySO"
      },
      "outputs": [],
      "source": []
    },
    {
      "cell_type": "code",
      "execution_count": null,
      "metadata": {
        "id": "39Mg6y0F9yUw"
      },
      "outputs": [],
      "source": []
    },
    {
      "cell_type": "markdown",
      "metadata": {
        "id": "aXb_WGd270tn"
      },
      "source": [
        "Median time spent by students per week"
      ]
    },
    {
      "cell_type": "code",
      "execution_count": null,
      "metadata": {
        "id": "vl_V9h1E8FFH"
      },
      "outputs": [],
      "source": [
        "def calculate_median(data):\n",
        "    # Sort the data first\n",
        "    data.sort()\n",
        "\n",
        "    n = len(data)\n",
        "\n",
        "    if n % 2 != 0:\n",
        "        return data[n // 2]\n",
        "    else:\n",
        "        mid1 = data[(n // 2) - 1]\n",
        "        mid2 = data[n // 2]\n",
        "        return (mid1 + mid2) / 2"
      ]
    },
    {
      "cell_type": "code",
      "execution_count": null,
      "metadata": {
        "colab": {
          "base_uri": "https://localhost:8080/"
        },
        "id": "ihwfDvst8NDF",
        "outputId": "a7c5c729-7dbc-4bd9-e355-338349653887"
      },
      "outputs": [
        {
          "data": {
            "text/plain": [
              "7.9"
            ]
          },
          "execution_count": 7,
          "metadata": {},
          "output_type": "execute_result"
        }
      ],
      "source": [
        "calculate_median(hrs_per_week)"
      ]
    },
    {
      "cell_type": "markdown",
      "metadata": {
        "id": "RmDXLxo48VXx"
      },
      "source": [
        "Definitely there are some outliers, lets plot the data"
      ]
    },
    {
      "cell_type": "code",
      "execution_count": null,
      "metadata": {
        "colab": {
          "base_uri": "https://localhost:8080/",
          "height": 448
        },
        "id": "qeDQR5Un8_ey",
        "outputId": "dc2a2e1e-ee52-4aba-b1dd-5fcb7d5d0dac"
      },
      "outputs": [
        {
          "data": {
            "text/plain": [
              "<Axes: ylabel='Count'>"
            ]
          },
          "execution_count": 7,
          "metadata": {},
          "output_type": "execute_result"
        },
        {
          "data": {
            "image/png": "[encoded data removed]",
            "text/plain": [
              "<Figure size 640x480 with 1 Axes>"
            ]
          },
          "metadata": {},
          "output_type": "display_data"
        }
      ],
      "source": [
        "import seaborn as sns\n",
        "\n",
        "sns.histplot(hrs_per_week)"
      ]
    },
    {
      "cell_type": "markdown",
      "metadata": {
        "id": "6WYePjBy9ND8"
      },
      "source": [
        "Most popular social media platform"
      ]
    },
    {
      "cell_type": "code",
      "execution_count": null,
      "metadata": {
        "id": "VHWx-ace9Q1F"
      },
      "outputs": [],
      "source": []
    },
    {
      "cell_type": "code",
      "execution_count": null,
      "metadata": {
        "id": "Jbfet0IM90a0"
      },
      "outputs": [],
      "source": []
    },
    {
      "cell_type": "code",
      "execution_count": null,
      "metadata": {
        "id": "mhS3dPBn90dO"
      },
      "outputs": [],
      "source": []
    },
    {
      "cell_type": "code",
      "execution_count": null,
      "metadata": {
        "id": "jPhFaPdK90fs"
      },
      "outputs": [],
      "source": []
    },
    {
      "cell_type": "code",
      "execution_count": null,
      "metadata": {
        "id": "2_BQnzUB90h_"
      },
      "outputs": [],
      "source": []
    },
    {
      "cell_type": "code",
      "execution_count": null,
      "metadata": {
        "id": "HrzCjHT390kQ"
      },
      "outputs": [],
      "source": []
    },
    {
      "cell_type": "code",
      "execution_count": null,
      "metadata": {
        "id": "4F6Ry8BM90mq"
      },
      "outputs": [],
      "source": []
    },
    {
      "cell_type": "code",
      "execution_count": null,
      "metadata": {
        "id": "ZD8z5V3G90o7"
      },
      "outputs": [],
      "source": []
    },
    {
      "cell_type": "code",
      "execution_count": null,
      "metadata": {
        "id": "2C9taFiR90rS"
      },
      "outputs": [],
      "source": []
    },
    {
      "cell_type": "code",
      "execution_count": null,
      "metadata": {
        "id": "MtQfvbRm90t0"
      },
      "outputs": [],
      "source": []
    },
    {
      "cell_type": "code",
      "execution_count": null,
      "metadata": {
        "id": "ReKSpfa490wQ"
      },
      "outputs": [],
      "source": []
    },
    {
      "cell_type": "code",
      "execution_count": null,
      "metadata": {
        "id": "zfnO0Ae890yk"
      },
      "outputs": [],
      "source": [
        "def calculate_mode(data):\n",
        "    frequency = {}\n",
        "\n",
        "    for item in data:\n",
        "        if item in frequency:\n",
        "            frequency[item] += 1\n",
        "        else:\n",
        "            frequency[item] = 1\n",
        "\n",
        "    max_freq = max(frequency.values())\n",
        "\n",
        "    mode = [key for key, value in frequency.items() if value == max_freq]\n",
        "\n",
        "    return mode"
      ]
    },
    {
      "cell_type": "code",
      "execution_count": null,
      "metadata": {
        "colab": {
          "base_uri": "https://localhost:8080/"
        },
        "id": "hcTUNoMJ905-",
        "outputId": "47e67e36-e001-42e5-c959-fd7ed6c46d54"
      },
      "outputs": [
        {
          "data": {
            "text/plain": [
              "['Instagram']"
            ]
          },
          "execution_count": 13,
          "metadata": {},
          "output_type": "execute_result"
        }
      ],
      "source": [
        "calculate_mode(fav_platform)"
      ]
    },
    {
      "cell_type": "code",
      "execution_count": null,
      "metadata": {
        "colab": {
          "base_uri": "https://localhost:8080/"
        },
        "id": "LHkRNFEO-XV1",
        "outputId": "0eba75b8-79f0-4459-8d34-6c2c5e1622ca"
      },
      "outputs": [
        {
          "data": {
            "text/plain": [
              "{'Instagram': 23,\n",
              " 'YouTube': 14,\n",
              " 'Twitter': 9,\n",
              " 'Snapchat': 9,\n",
              " 'Facebook': 9,\n",
              " 'LinkedIn': 5,\n",
              " 'Others': 4}"
            ]
          },
          "execution_count": 16,
          "metadata": {},
          "output_type": "execute_result"
        }
      ],
      "source": [
        "frequency = {}\n",
        "for item in fav_platform:\n",
        "      if item in frequency:\n",
        "          frequency[item] += 1\n",
        "      else:\n",
        "          frequency[item] = 1\n",
        "frequency"
      ]
    }
  ],
  "metadata": {
    "colab": {
      "provenance": [],
      "include_colab_link": true
    },
    "kernelspec": {
      "display_name": "Python 3",
      "name": "python3"
    },
    "language_info": {
      "name": "python"
    }
  },
  "nbformat": 4,
  "nbformat_minor": 0
}